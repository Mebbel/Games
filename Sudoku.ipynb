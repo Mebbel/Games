{
 "cells": [
  {
   "cell_type": "code",
   "execution_count": 1,
   "metadata": {},
   "outputs": [],
   "source": [
    "import numpy as np"
   ]
  },
  {
   "cell_type": "code",
   "execution_count": 2,
   "metadata": {},
   "outputs": [],
   "source": [
    "# Function to check if a specific number can be placed in a cell\n",
    "\n",
    "def check_field(r, c, x):\n",
    "    global m\n",
    "    # Check the row\n",
    "    for i in range(0,9):\n",
    "        if m[r][i] == x:\n",
    "            return False\n",
    "\n",
    "    # Check the column\n",
    "    for i in range(0,9):\n",
    "        if m[i][c] == x:\n",
    "            return False\n",
    "\n",
    "    # Check the box\n",
    "    r_ = (r // 3) * 3\n",
    "    c_ = (c // 3) * 3\n",
    "\n",
    "    for i in range(0,3):\n",
    "        for j in range(0,3):\n",
    "            if m[r_+i][c_+j] == x:\n",
    "                return False\n",
    "\n",
    "    return True\n",
    "\n",
    "# check_field(0, 2, 4)\n"
   ]
  },
  {
   "cell_type": "code",
   "execution_count": 3,
   "metadata": {},
   "outputs": [],
   "source": [
    "# Check which and how many numbers can be put in a specific field\n",
    "# "
   ]
  },
  {
   "cell_type": "code",
   "execution_count": 4,
   "metadata": {},
   "outputs": [],
   "source": [
    "# Define the solver\n",
    "\n",
    "def solve_Sudoku():\n",
    "    global m\n",
    "    global i\n",
    "\n",
    "    for r in range(9):\n",
    "        for c in range(9):\n",
    "            if m[r][c] == 0:\n",
    "                for n in range(1, 10):\n",
    "                    if check_field(r, c, n):\n",
    "                        # Enter value\n",
    "                        m[r][c] = n\n",
    "\n",
    "                        # Check next cells\n",
    "                        solve_Sudoku()\n",
    "\n",
    "                        # Reached dead end\n",
    "                        m[r][c] = 0\n",
    "\n",
    "                return\n",
    "\n",
    "    i = i + 1\n",
    "    if print_m:\n",
    "        print(np.matrix(m))\n",
    "        print(i)"
   ]
  },
  {
   "cell_type": "code",
   "execution_count": 5,
   "metadata": {},
   "outputs": [],
   "source": [
    "# Wrap solver to allow for benchmarking\n",
    "def solve_Sudoku_bench(m_, print_matrix = False):\n",
    "    global m\n",
    "    global i\n",
    "    global print_m\n",
    "    print_m = print_matrix\n",
    "    m = m_.copy()\n",
    "    i = 0\n",
    "    solve_Sudoku()"
   ]
  },
  {
   "cell_type": "code",
   "execution_count": 6,
   "metadata": {},
   "outputs": [
    {
     "name": "stdout",
     "output_type": "stream",
     "text": [
      "[[7 8 6 9 1 5 2 4 3]\n",
      " [3 1 9 4 2 7 8 6 5]\n",
      " [4 5 2 6 8 3 7 9 1]\n",
      " [9 7 4 1 3 2 5 8 6]\n",
      " [2 6 1 5 9 8 4 3 7]\n",
      " [8 3 5 7 6 4 9 1 2]\n",
      " [5 4 3 8 7 1 6 2 9]\n",
      " [6 2 7 3 4 9 1 5 8]\n",
      " [1 9 8 2 5 6 3 7 4]]\n",
      "1\n"
     ]
    }
   ],
   "source": [
    "# Define Sudoku to be solved\n",
    "# Easy\n",
    "\n",
    "m_easy = [\n",
    "    [0, 8, 6, 0, 1, 0, 0, 4, 3],\n",
    "    [0, 0, 9, 0, 0, 7, 0, 6, 5],\n",
    "    [0, 5, 2, 6, 0, 3, 0, 0, 0],\n",
    "    [0, 7, 0, 0, 3, 0, 5, 0, 0],\n",
    "    [0, 0, 0, 5, 9, 0, 4, 3, 0], \n",
    "    [0, 3, 5, 0, 0, 4, 0, 1, 0],\n",
    "    [0, 0, 0, 8, 0, 1, 6, 0, 0],\n",
    "    [6, 2, 7, 3, 0, 0, 1, 0, 8],\n",
    "    [0, 9, 8, 0, 0, 6, 3, 7, 0]\n",
    "]\n",
    "\n",
    "solve_Sudoku_bench(m_easy, print_matrix = True)"
   ]
  },
  {
   "cell_type": "code",
   "execution_count": 7,
   "metadata": {},
   "outputs": [
    {
     "name": "stdout",
     "output_type": "stream",
     "text": [
      "[[4 7 2 8 1 5 6 9 3]\n",
      " [8 6 3 7 9 2 4 5 1]\n",
      " [5 9 1 4 3 6 8 7 2]\n",
      " [7 3 4 5 6 8 1 2 9]\n",
      " [6 1 5 9 2 7 3 8 4]\n",
      " [9 2 8 1 4 3 5 6 7]\n",
      " [2 4 7 6 8 1 9 3 5]\n",
      " [1 5 6 3 7 9 2 4 8]\n",
      " [3 8 9 2 5 4 7 1 6]]\n",
      "1\n"
     ]
    }
   ],
   "source": [
    "# Medium\n",
    "m_medium = [\n",
    "    [0, 0, 2, 0, 0, 5, 0, 0, 3],\n",
    "    [8, 6, 0, 7, 0, 2, 0, 0, 0],\n",
    "    [5, 9, 1, 0, 3, 6, 0, 7, 0],\n",
    "    [7, 3, 4, 0, 0, 0, 1, 0, 0],\n",
    "    [6, 0, 0, 0, 2, 0, 0, 0, 4], \n",
    "    [0, 0, 8, 0, 0, 0, 5, 6, 7],\n",
    "    [0, 4, 0, 6, 8, 0, 9, 3, 5],\n",
    "    [0, 0, 0, 3, 0, 9, 0, 4, 8],\n",
    "    [3, 0, 0, 2, 0, 0, 7, 0, 0]\n",
    "]\n",
    "\n",
    "solve_Sudoku_bench(m_medium, print_matrix = True)\n"
   ]
  },
  {
   "cell_type": "code",
   "execution_count": 8,
   "metadata": {},
   "outputs": [
    {
     "name": "stdout",
     "output_type": "stream",
     "text": [
      "[[4 6 5 2 1 8 9 3 7]\n",
      " [1 9 2 3 5 7 6 8 4]\n",
      " [7 8 3 6 4 9 5 1 2]\n",
      " [8 4 9 5 7 3 2 6 1]\n",
      " [5 7 6 1 9 2 3 4 8]\n",
      " [2 3 1 8 6 4 7 9 5]\n",
      " [6 5 8 7 3 1 4 2 9]\n",
      " [3 2 4 9 8 5 1 7 6]\n",
      " [9 1 7 4 2 6 8 5 3]]\n",
      "1\n"
     ]
    }
   ],
   "source": [
    "# Hard\n",
    "\n",
    "m_hard_1 = [\n",
    "    [4, 6, 0, 2, 1, 8, 0, 0, 0],\n",
    "    [1, 0, 0, 0, 0, 0, 0, 8, 0],\n",
    "    [7, 0, 3, 6, 0, 0, 5, 0, 0],\n",
    "    [0, 0, 0, 0, 7, 3, 0, 0, 1],\n",
    "    [0, 7, 0, 0, 0, 0, 0, 4, 0], \n",
    "    [2, 0, 0, 8, 6, 0, 0, 0, 0],\n",
    "    [0, 0, 8, 0, 0, 1, 4, 0, 9],\n",
    "    [0, 2, 0, 0, 0, 0, 0, 0, 6],\n",
    "    [0, 0, 0, 4, 2, 6, 0, 5, 3]\n",
    "]\n",
    "\n",
    "solve_Sudoku_bench(m_hard_1, print_matrix = True)"
   ]
  },
  {
   "cell_type": "code",
   "execution_count": 9,
   "metadata": {},
   "outputs": [
    {
     "name": "stdout",
     "output_type": "stream",
     "text": [
      "[[7 8 6 9 1 5 2 4 3]\n",
      " [3 1 9 4 2 7 8 6 5]\n",
      " [4 5 2 6 8 3 7 9 1]\n",
      " [9 7 4 1 3 2 5 8 6]\n",
      " [2 6 1 5 9 8 4 3 7]\n",
      " [8 3 5 7 6 4 9 1 2]\n",
      " [5 4 3 8 7 1 6 2 9]\n",
      " [6 2 7 3 4 9 1 5 8]\n",
      " [1 9 8 2 5 6 3 7 4]]\n",
      "1\n"
     ]
    }
   ],
   "source": [
    "# Save intermediate steps for animation\n",
    "\n",
    "import copy\n",
    "\n",
    "def solve_Sudoku_anim():\n",
    "    global m\n",
    "    global m_b\n",
    "    global i\n",
    "\n",
    "    for r in range(9):\n",
    "        for c in range(9):\n",
    "            if m[r][c] == 0:\n",
    "                for n in range(1, 10):\n",
    "                    if check_field(r, c, n):\n",
    "                        # Enter value\n",
    "                        m[r][c] = n\n",
    "                        m_b.append(copy.deepcopy(m))\n",
    "\n",
    "                        # Check next cells\n",
    "                        solve_Sudoku_anim()\n",
    "\n",
    "                        # Reached dead end\n",
    "                        m[r][c] = 0\n",
    "                        m_b.append(copy.deepcopy(m))\n",
    "\n",
    "                return\n",
    "\n",
    "    i = i + 1\n",
    "    if print_m:\n",
    "        print(np.matrix(m))\n",
    "        print(i)\n",
    "\n",
    "\n",
    "def solve_Sudoku_bench_anim(m_, print_matrix = False):\n",
    "    global m\n",
    "    global m_b\n",
    "    global i\n",
    "    global print_m\n",
    "\n",
    "    print_m = print_matrix\n",
    "    m = m_.copy()\n",
    "    m_b = []\n",
    "    i = 0\n",
    "    solve_Sudoku_anim()\n",
    "\n",
    "solve_Sudoku_bench_anim(m_easy, print_matrix = True)"
   ]
  },
  {
   "cell_type": "code",
   "execution_count": 21,
   "metadata": {},
   "outputs": [
    {
     "data": {
      "image/png": "[encoded data removed]",
      "text/plain": [
       "<Figure size 360x360 with 1 Axes>"
      ]
     },
     "metadata": {},
     "output_type": "display_data"
    }
   ],
   "source": [
    "import matplotlib.pyplot as plt\n",
    "import matplotlib.patches as patches\n",
    "\n",
    "from matplotlib.animation import PillowWriter, FuncAnimation, HTMLWriter\n",
    "import matplotlib.animation as animation\n",
    "\n",
    "\n",
    "\n",
    "#create data\n",
    "x = [i for i in range(10)]\n",
    "y = [i for i in range(10)]\n",
    "\n",
    "fig, ax = plt.subplots(figsize = (5, 5))\n",
    "\n",
    "#create scatterplot\n",
    "# plt.scatter(x, y)\n",
    "\n",
    "font = {'color':  'black',\n",
    "        'size': 15\n",
    "        }\n",
    "\n",
    "font_red = {\n",
    "        'color':  'red',\n",
    "        'size': 15\n",
    "        }\n",
    "\n",
    "plt.xlim([0, 9])\n",
    "plt.ylim([0, 9])\n",
    "\n",
    "# Add boxes around grid and for each subgrid\n",
    "rect = patches.Rectangle((0, 0), 9, 9, linewidth=3, edgecolor='black', facecolor='none')\n",
    "\n",
    "# Add the patch to the Axes\n",
    "ax.add_patch(rect)\n",
    "\n",
    "for i in range(9):\n",
    "        for j in range(9):\n",
    "                rect = patches.Rectangle((i, j), 1, 1, linewidth=1, edgecolor='gray', facecolor='none')\n",
    "                ax.add_patch(rect)\n",
    "\n",
    "for i in range(3):\n",
    "        for j in range(3):\n",
    "                rect = patches.Rectangle((3 * i, 3 * j), 3, 3, linewidth=2, edgecolor='black', facecolor='none')\n",
    "                ax.add_patch(rect)\n",
    "\n",
    "# Hide ticks\n",
    "plt.xticks([])\n",
    "plt.yticks([])\n",
    "\n",
    "# Set initial text labels - collect them\n",
    "m_lab = copy.deepcopy(m)\n",
    "\n",
    "# Create labels\n",
    "for i in range(9):\n",
    "        for j in range(9):\n",
    "                if m[i][j] != 0:\n",
    "                        m_lab[i][j] = plt.text(.5 + j, 8.5 - i, \"\", fontdict=font, ha='center', va='center')\n",
    "                else:\n",
    "                     m_lab[i][j] = plt.text(.5 + j, 8.5 - i, \"\", fontdict=font_red, ha='center', va='center')   \n",
    "\n",
    "# Fill initial values\n",
    "for i in range(9):\n",
    "        for j in range(9):\n",
    "                if m[i][j] != 0:\n",
    "                        m_lab[i][j] = plt.text(.5 + j, 8.5 - i, str(m[i][j]), fontdict=font, ha='center', va='center')\n",
    "\n",
    "def animate(s):\n",
    "    m_c = m_b[s]\n",
    "    for i in range(9):\n",
    "        for j in range(9):\n",
    "                v = m[i][j]\n",
    "                v_c = m_c[i][j]\n",
    "                if v == 0 and v_c != 0:\n",
    "                    m_lab[i][j].set_text(str(v_c))\n",
    "                elif v_c == 0:\n",
    "                        m_lab[i][j].set_text(\"\")\n",
    "\n",
    "\n",
    "anim = FuncAnimation(fig, animate, frames=len(m_b))#range(0, len(m_b),3))\n",
    "\n",
    "writer = PillowWriter(fps=50)  \n",
    "anim.save(\"Sudoku_Animation.gif\", writer=writer, dpi=50) \n",
    "\n",
    "# Optimize with https://ezgif.com/optimize/"
   ]
  }
 ],
 "metadata": {
  "interpreter": {
   "hash": "869cfd7152767b6c01cc3b1a533d38f34d102a29f7c510c98fad66d349226c64"
  },
  "kernelspec": {
   "display_name": "Python 3.8.10 64-bit",
   "name": "python3"
  },
  "language_info": {
   "codemirror_mode": {
    "name": "ipython",
    "version": 3
   },
   "file_extension": ".py",
   "mimetype": "text/x-python",
   "name": "python",
   "nbconvert_exporter": "python",
   "pygments_lexer": "ipython3",
   "version": "3.8.10"
  },
  "orig_nbformat": 4
 },
 "nbformat": 4,
 "nbformat_minor": 2
}
