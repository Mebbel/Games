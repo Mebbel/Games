{
 "cells": [
  {
   "cell_type": "code",
   "execution_count": 55,
   "metadata": {},
   "outputs": [],
   "source": [
    "import numpy as np"
   ]
  },
  {
   "cell_type": "code",
   "execution_count": 79,
   "metadata": {},
   "outputs": [],
   "source": [
    "# Function to check if a specific number can be placed in a cell\n",
    "\n",
    "def check_field(r, c, x):\n",
    "    global m\n",
    "    # Check the row\n",
    "    for i in range(0,9):\n",
    "        if m[r][i] == x:\n",
    "            return False\n",
    "\n",
    "    # Check the column\n",
    "    for i in range(0,9):\n",
    "        if m[i][c] == x:\n",
    "            return False\n",
    "\n",
    "    # Check the box\n",
    "    r_ = (r // 3) * 3\n",
    "    c_ = (c // 3) * 3\n",
    "\n",
    "    for i in range(0,3):\n",
    "        for j in range(0,3):\n",
    "            if m[r_+i][c_+j] == x:\n",
    "                return False\n",
    "\n",
    "    return True\n",
    "\n",
    "# check_field(0, 2, 4)\n"
   ]
  },
  {
   "cell_type": "code",
   "execution_count": null,
   "metadata": {},
   "outputs": [],
   "source": [
    "# Check which and how many numbers can be put in a specific field\n",
    "# "
   ]
  },
  {
   "cell_type": "code",
   "execution_count": 119,
   "metadata": {},
   "outputs": [],
   "source": [
    "# Define the solver\n",
    "\n",
    "def solve_Sudoku():\n",
    "    global m\n",
    "    global i\n",
    "\n",
    "    for r in range(9):\n",
    "        for c in range(9):\n",
    "            if m[r][c] == 0:\n",
    "                for n in range(1, 10):\n",
    "                    if check_field(r, c, n):\n",
    "                        # Enter value\n",
    "                        m[r][c] = n\n",
    "\n",
    "                        # Check next cells\n",
    "                        solve_Sudoku()\n",
    "\n",
    "                        # Reached dead end\n",
    "                        m[r][c] = 0\n",
    "\n",
    "                return\n",
    "\n",
    "    i = i + 1\n",
    "    if print_m:\n",
    "        print(np.matrix(m))\n",
    "        print(i)"
   ]
  },
  {
   "cell_type": "code",
   "execution_count": 122,
   "metadata": {},
   "outputs": [],
   "source": [
    "# Wrap solver to allow for benchmarking\n",
    "def solve_Sudoku_bench(m_, print_matrix = False):\n",
    "    global m\n",
    "    global i\n",
    "    global print_m\n",
    "    print_m = print_matrix\n",
    "    m = m_.copy()\n",
    "    i = 0\n",
    "    solve_Sudoku()"
   ]
  },
  {
   "cell_type": "code",
   "execution_count": 166,
   "metadata": {},
   "outputs": [
    {
     "name": "stdout",
     "output_type": "stream",
     "text": [
      "[[7 8 6 9 1 5 2 4 3]\n",
      " [3 1 9 4 2 7 8 6 5]\n",
      " [4 5 2 6 8 3 7 9 1]\n",
      " [9 7 4 1 3 2 5 8 6]\n",
      " [2 6 1 5 9 8 4 3 7]\n",
      " [8 3 5 7 6 4 9 1 2]\n",
      " [5 4 3 8 7 1 6 2 9]\n",
      " [6 2 7 3 4 9 1 5 8]\n",
      " [1 9 8 2 5 6 3 7 4]]\n",
      "1\n"
     ]
    }
   ],
   "source": [
    "# Define Sudoku to be solved\n",
    "# Easy\n",
    "\n",
    "m_easy = [\n",
    "    [0, 8, 6, 0, 1, 0, 0, 4, 3],\n",
    "    [0, 0, 9, 0, 0, 7, 0, 6, 5],\n",
    "    [0, 5, 2, 6, 0, 3, 0, 0, 0],\n",
    "    [0, 7, 0, 0, 3, 0, 5, 0, 0],\n",
    "    [0, 0, 0, 5, 9, 0, 4, 3, 0], \n",
    "    [0, 3, 5, 0, 0, 4, 0, 1, 0],\n",
    "    [0, 0, 0, 8, 0, 1, 6, 0, 0],\n",
    "    [6, 2, 7, 3, 0, 0, 1, 0, 8],\n",
    "    [0, 9, 8, 0, 0, 6, 3, 7, 0]\n",
    "]\n",
    "\n",
    "solve_Sudoku_bench(m_easy, print_matrix = True)"
   ]
  },
  {
   "cell_type": "code",
   "execution_count": 204,
   "metadata": {},
   "outputs": [
    {
     "name": "stdout",
     "output_type": "stream",
     "text": [
      "[[4 7 2 8 1 5 6 9 3]\n",
      " [8 6 3 7 9 2 4 5 1]\n",
      " [5 9 1 4 3 6 8 7 2]\n",
      " [7 3 4 5 6 8 1 2 9]\n",
      " [6 1 5 9 2 7 3 8 4]\n",
      " [9 2 8 1 4 3 5 6 7]\n",
      " [2 4 7 6 8 1 9 3 5]\n",
      " [1 5 6 3 7 9 2 4 8]\n",
      " [3 8 9 2 5 4 7 1 6]]\n",
      "1\n"
     ]
    }
   ],
   "source": [
    "# Medium\n",
    "m_medium = [\n",
    "    [0, 0, 2, 0, 0, 5, 0, 0, 3],\n",
    "    [8, 6, 0, 7, 0, 2, 0, 0, 0],\n",
    "    [5, 9, 1, 0, 3, 6, 0, 7, 0],\n",
    "    [7, 3, 4, 0, 0, 0, 1, 0, 0],\n",
    "    [6, 0, 0, 0, 2, 0, 0, 0, 4], \n",
    "    [0, 0, 8, 0, 0, 0, 5, 6, 7],\n",
    "    [0, 4, 0, 6, 8, 0, 9, 3, 5],\n",
    "    [0, 0, 0, 3, 0, 9, 0, 4, 8],\n",
    "    [3, 0, 0, 2, 0, 0, 7, 0, 0]\n",
    "]\n",
    "\n",
    "solve_Sudoku_bench(m_medium, print_matrix = True)\n"
   ]
  },
  {
   "cell_type": "code",
   "execution_count": 126,
   "metadata": {},
   "outputs": [
    {
     "name": "stdout",
     "output_type": "stream",
     "text": [
      "[[4 6 5 2 1 8 9 3 7]\n",
      " [1 9 2 3 5 7 6 8 4]\n",
      " [7 8 3 6 4 9 5 1 2]\n",
      " [8 4 9 5 7 3 2 6 1]\n",
      " [5 7 6 1 9 2 3 4 8]\n",
      " [2 3 1 8 6 4 7 9 5]\n",
      " [6 5 8 7 3 1 4 2 9]\n",
      " [3 2 4 9 8 5 1 7 6]\n",
      " [9 1 7 4 2 6 8 5 3]]\n",
      "1\n"
     ]
    }
   ],
   "source": [
    "# Hard\n",
    "\n",
    "m_hard_1 = [\n",
    "    [4, 6, 0, 2, 1, 8, 0, 0, 0],\n",
    "    [1, 0, 0, 0, 0, 0, 0, 8, 0],\n",
    "    [7, 0, 3, 6, 0, 0, 5, 0, 0],\n",
    "    [0, 0, 0, 0, 7, 3, 0, 0, 1],\n",
    "    [0, 7, 0, 0, 0, 0, 0, 4, 0], \n",
    "    [2, 0, 0, 8, 6, 0, 0, 0, 0],\n",
    "    [0, 0, 8, 0, 0, 1, 4, 0, 9],\n",
    "    [0, 2, 0, 0, 0, 0, 0, 0, 6],\n",
    "    [0, 0, 0, 4, 2, 6, 0, 5, 3]\n",
    "]\n",
    "\n",
    "solve_Sudoku_bench(m_hard_1, print_matrix = True)"
   ]
  },
  {
   "cell_type": "code",
   "execution_count": 128,
   "metadata": {},
   "outputs": [
    {
     "name": "stdout",
     "output_type": "stream",
     "text": [
      "[[6 4 7 1 8 3 9 5 2]\n",
      " [3 9 2 5 7 4 8 1 6]\n",
      " [1 5 8 9 2 6 7 4 3]\n",
      " [8 6 9 7 4 5 2 3 1]\n",
      " [7 1 3 2 6 8 4 9 5]\n",
      " [5 2 4 3 1 9 6 7 8]\n",
      " [2 8 5 4 3 7 1 6 9]\n",
      " [9 7 1 6 5 2 3 8 4]\n",
      " [4 3 6 8 9 1 5 2 7]]\n",
      "1\n"
     ]
    }
   ],
   "source": [
    "#  Hard\n",
    "# m_hard_2 = [\n",
    "#     [6, 0, 0, 0, 0, 0, 0, 0, 0],\n",
    "#     [0, 9, 0, 5, 0, 4, 0, 0, 6],\n",
    "#     [1, 5, 8, 0, 2, 0, 0, 0, 0],\n",
    "#     [0, 0, 0, 7, 4, 0, 0, 3, 1],\n",
    "#     [0, 0, 0, 0, 0, 0, 0, 0, 0], \n",
    "#     [5, 2, 0, 0, 1, 9, 0, 0, 0],\n",
    "#     [0, 0, 0, 0, 3, 0, 1, 6, 9],\n",
    "#     [9, 0, 0, 6, 0, 2, 0, 8, 0],\n",
    "#     [0, 0, 0, 0, 0, 0, 0, 0, 7]\n",
    "# ]\n",
    "\n",
    "# solve_Sudoku_bench(m_hard_2, print_matrix = True)"
   ]
  },
  {
   "cell_type": "code",
   "execution_count": 131,
   "metadata": {},
   "outputs": [
    {
     "name": "stdout",
     "output_type": "stream",
     "text": [
      "1.53 ms ± 204 µs per loop (mean ± std. dev. of 7 runs, 50 loops each)\n"
     ]
    }
   ],
   "source": [
    "# Benchmarking\n",
    "%timeit -n 50 solve_Sudoku_bench(m_easy)"
   ]
  },
  {
   "cell_type": "code",
   "execution_count": 132,
   "metadata": {},
   "outputs": [
    {
     "name": "stdout",
     "output_type": "stream",
     "text": [
      "908 µs ± 32 µs per loop (mean ± std. dev. of 7 runs, 50 loops each)\n"
     ]
    }
   ],
   "source": [
    "%timeit -n 50 solve_Sudoku_bench(m_medium)"
   ]
  },
  {
   "cell_type": "code",
   "execution_count": 138,
   "metadata": {},
   "outputs": [
    {
     "name": "stdout",
     "output_type": "stream",
     "text": [
      "16.8 ms ± 729 µs per loop (mean ± std. dev. of 7 runs, 50 loops each)\n"
     ]
    }
   ],
   "source": [
    "%timeit -n 50 solve_Sudoku_bench(m_hard_1)"
   ]
  },
  {
   "cell_type": "code",
   "execution_count": 137,
   "metadata": {},
   "outputs": [
    {
     "name": "stdout",
     "output_type": "stream",
     "text": [
      "116 µs ± 22.5 µs per loop (mean ± std. dev. of 7 runs, 50 loops each)\n"
     ]
    }
   ],
   "source": [
    "# %timeit -n 50 solve_Sudoku_bench(m_hard_2)"
   ]
  }
 ],
 "metadata": {
  "interpreter": {
   "hash": "869cfd7152767b6c01cc3b1a533d38f34d102a29f7c510c98fad66d349226c64"
  },
  "kernelspec": {
   "display_name": "Python 3.8.10 64-bit",
   "name": "python3"
  },
  "language_info": {
   "codemirror_mode": {
    "name": "ipython",
    "version": 3
   },
   "file_extension": ".py",
   "mimetype": "text/x-python",
   "name": "python",
   "nbconvert_exporter": "python",
   "pygments_lexer": "ipython3",
   "version": "3.8.10"
  },
  "orig_nbformat": 4
 },
 "nbformat": 4,
 "nbformat_minor": 2
}
