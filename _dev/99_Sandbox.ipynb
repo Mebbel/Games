{
 "cells": [
  {
   "cell_type": "code",
   "execution_count": 12,
   "metadata": {},
   "outputs": [],
   "source": [
    "def climbStairs(n):\n",
    "    \n",
    "    l = [0, 1, 2]\n",
    "    \n",
    "    for i in range(3, n+1):\n",
    "        l.append(l[i-2] + l[i-1])\n",
    "        \n",
    "        \n",
    "    return l[n]"
   ]
  },
  {
   "cell_type": "code",
   "execution_count": 6,
   "metadata": {},
   "outputs": [
    {
     "data": {
      "text/plain": [
       "{0: 0, 1: 1, 2: 2}"
      ]
     },
     "execution_count": 6,
     "metadata": {},
     "output_type": "execute_result"
    }
   ],
   "source": [
    "2 -> 2\n",
    "3 -> 3\n",
    "4 -> 5\n",
    "5 -> 8\n",
    "6 -> 13"
   ]
  },
  {
   "cell_type": "code",
   "execution_count": 9,
   "metadata": {},
   "outputs": [
    {
     "data": {
      "text/plain": [
       "['M', 'A', 'N', 'H', 'A', 'T', 'T', 'A', 'N']"
      ]
     },
     "execution_count": 9,
     "metadata": {},
     "output_type": "execute_result"
    }
   ],
   "source": [
    "alpha = [\"A\", \"B\", \"C\", \"D\", \"E\", \"F\", \"G\", \"H\", \"I\", \"J\", \"K\", \"L\", \"M\", \"N\", \"O\", \"P\", \"Q\", \"R\", \"S\", \"T\", \"U\", \"V\", \"W\", \"X\", \"Y\", \"Z\"]\n",
    "\n",
    "l_t = [i for i in \"MANHATTAN\"]\n",
    "l_t"
   ]
  }
 ],
 "metadata": {
  "interpreter": {
   "hash": "869cfd7152767b6c01cc3b1a533d38f34d102a29f7c510c98fad66d349226c64"
  },
  "kernelspec": {
   "display_name": "Python 3.8.10 64-bit",
   "name": "python3"
  },
  "language_info": {
   "codemirror_mode": {
    "name": "ipython",
    "version": 3
   },
   "file_extension": ".py",
   "mimetype": "text/x-python",
   "name": "python",
   "nbconvert_exporter": "python",
   "pygments_lexer": "ipython3",
   "version": "3.8.10"
  },
  "orig_nbformat": 4
 },
 "nbformat": 4,
 "nbformat_minor": 2
}
